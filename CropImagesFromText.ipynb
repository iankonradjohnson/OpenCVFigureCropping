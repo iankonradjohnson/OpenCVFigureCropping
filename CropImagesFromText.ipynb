{
 "cells": [
  {
   "cell_type": "code",
   "execution_count": 8,
   "metadata": {},
   "outputs": [],
   "source": [
    "import sys\n",
    "from matplotlib import pyplot as plt\n",
    "import os"
   ]
  },
  {
   "cell_type": "code",
   "execution_count": 9,
   "metadata": {},
   "outputs": [],
   "source": [
    "PATH = 'AHandbookOfOrnament/'\n",
    "IMG_PATH = PATH + 'images/'\n",
    "FIG_PATH = PATH + 'figures/'"
   ]
  },
  {
   "cell_type": "code",
   "execution_count": null,
   "metadata": {},
   "outputs": [],
   "source": []
  },
  {
   "cell_type": "code",
   "execution_count": 10,
   "metadata": {},
   "outputs": [],
   "source": [
    "import numpy as np\n",
    "import cv2\n",
    "from matplotlib import pyplot as plt"
   ]
  },
  {
   "cell_type": "code",
   "execution_count": 11,
   "metadata": {},
   "outputs": [],
   "source": [
    "def show(img):\n",
    "    cv.imshow('image', img) \n",
    "    cv.waitKey(0)  \n",
    "    cv.destroyAllWindows()  "
   ]
  },
  {
   "cell_type": "code",
   "execution_count": 12,
   "metadata": {},
   "outputs": [],
   "source": [
    "def get_bounding_rectangles(IMG_PATH): \n",
    "    # SRC: https://stackoverflow.com/questions/10262600/how-to-detect-region-of-large-of-white-pixels-using-opencv\n",
    "    img = img=cv2.imread(IMG_PATH)\n",
    "    gray = cv2.cvtColor(img,cv2.COLOR_BGR2GRAY)\n",
    "    gray2 = gray.copy()\n",
    "    ret, thresh = cv2.threshold(gray,127,255,cv2.THRESH_BINARY_INV+cv2.THRESH_OTSU)\n",
    "    contours, hier = cv2.findContours(thresh,cv2.RETR_LIST,cv2.CHAIN_APPROX_SIMPLE)\n",
    "    \n",
    "    secs = []\n",
    "    for cnt in contours:\n",
    "        if 15000<cv2.contourArea(cnt)<100000:\n",
    "            (x,y,w,h) = cv2.boundingRect(cnt)\n",
    "            secs.append(gray2[y:y+h, x:x+w])\n",
    "            \n",
    "    return secs\n",
    "\n",
    "#     cv2.imshow('IMG',gray2)\n",
    "#     cv2.waitKey(0)\n",
    "#     cv2.destroyAllWindows()"
   ]
  },
  {
   "cell_type": "code",
   "execution_count": null,
   "metadata": {},
   "outputs": [],
   "source": [
    "def get_category(img):\n",
    "    "
   ]
  },
  {
   "cell_type": "code",
   "execution_count": 15,
   "metadata": {},
   "outputs": [],
   "source": [
    "files = os.listdir(IMG_PATH)\n",
    "\n",
    "j = 0\n",
    "for i in range(400,420):\n",
    "    for img in get_bounding_rectangles(IMG_PATH + files[i]):\n",
    "#         cv2.imshow('IMG',img)\n",
    "#         if cv2.waitKey(0) == ord('1'):\n",
    "#             cv2.destroyAllWindows()\n",
    "#             cv2.imwrite(FIG_PATH + f'fig_{j}.png', img) \n",
    "#             j = j + 1\n",
    "#         elif cv2.waitKey(0) == ord('2'):\n",
    "#             cv2.destroyAllWindows()\n",
    "    \n",
    "        \n",
    "    "
   ]
  },
  {
   "cell_type": "code",
   "execution_count": null,
   "metadata": {},
   "outputs": [],
   "source": []
  }
 ],
 "metadata": {
  "kernelspec": {
   "display_name": "Python 3",
   "language": "python",
   "name": "python3"
  },
  "language_info": {
   "codemirror_mode": {
    "name": "ipython",
    "version": 3
   },
   "file_extension": ".py",
   "mimetype": "text/x-python",
   "name": "python",
   "nbconvert_exporter": "python",
   "pygments_lexer": "ipython3",
   "version": "3.7.4"
  }
 },
 "nbformat": 4,
 "nbformat_minor": 2
}
