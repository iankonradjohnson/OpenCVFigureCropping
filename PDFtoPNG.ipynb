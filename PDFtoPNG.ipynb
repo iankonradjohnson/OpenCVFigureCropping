{
 "cells": [
  {
   "cell_type": "code",
   "execution_count": 1,
   "metadata": {},
   "outputs": [
    {
     "name": "stdout",
     "output_type": "stream",
     "text": [
      "Requirement already satisfied: PyPDF2 in c:\\users\\vel\\anaconda3\\lib\\site-packages (1.26.0)\n",
      "Requirement already satisfied: autocrop in c:\\users\\vel\\anaconda3\\lib\\site-packages (1.1.0)\n",
      "Requirement already satisfied: Pillow>5 in c:\\users\\vel\\anaconda3\\lib\\site-packages (from autocrop) (8.0.1)\n",
      "Requirement already satisfied: numpy>=1.10 in c:\\users\\vel\\anaconda3\\lib\\site-packages (from autocrop) (1.16.5)\n",
      "Requirement already satisfied: opencv-python<5,>=3 in c:\\users\\vel\\anaconda3\\lib\\site-packages (from autocrop) (4.4.0.46)\n",
      "Requirement already satisfied: pdf2image in c:\\users\\vel\\anaconda3\\lib\\site-packages (1.14.0)\n",
      "Requirement already satisfied: pillow in c:\\users\\vel\\anaconda3\\lib\\site-packages (from pdf2image) (8.0.1)\n"
     ]
    }
   ],
   "source": [
    "!pip install PyPDF2\n",
    "!pip install autocrop\n",
    "!pip install pdf2image"
   ]
  },
  {
   "cell_type": "code",
   "execution_count": 2,
   "metadata": {},
   "outputs": [],
   "source": [
    "from PIL import Image\n",
    "from autocrop import Cropper"
   ]
  },
  {
   "cell_type": "code",
   "execution_count": 3,
   "metadata": {},
   "outputs": [],
   "source": [
    "pdffile = open('AHandbookOfOrnament/AHandbookOfOrnament.pdf', 'rb')"
   ]
  },
  {
   "cell_type": "code",
   "execution_count": 1,
   "metadata": {},
   "outputs": [],
   "source": [
    "# import module \n",
    "from pdf2image import convert_from_path \n",
    "  \n",
    "# Store Pdf with convert_from_path function \n",
    "images = convert_from_path('AHandbookOfOrnament.pdf') \n",
    "  \n",
    "# for img in images: \n",
    "#     img.showA"
   ]
  },
  {
   "cell_type": "code",
   "execution_count": 3,
   "metadata": {},
   "outputs": [],
   "source": [
    "i=0\n",
    "for img in images:\n",
    "    img.save(f'AHandbookOfOrnament/images/img_{i}.png')\n",
    "    i = i+1"
   ]
  },
  {
   "cell_type": "code",
   "execution_count": null,
   "metadata": {},
   "outputs": [],
   "source": []
  }
 ],
 "metadata": {
  "kernelspec": {
   "display_name": "Python 3",
   "language": "python",
   "name": "python3"
  },
  "language_info": {
   "codemirror_mode": {
    "name": "ipython",
    "version": 3
   },
   "file_extension": ".py",
   "mimetype": "text/x-python",
   "name": "python",
   "nbconvert_exporter": "python",
   "pygments_lexer": "ipython3",
   "version": "3.7.4"
  }
 },
 "nbformat": 4,
 "nbformat_minor": 2
}
