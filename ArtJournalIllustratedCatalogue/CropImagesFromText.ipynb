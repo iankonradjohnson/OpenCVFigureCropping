{
 "cells": [
  {
   "cell_type": "code",
   "execution_count": 1,
   "metadata": {},
   "outputs": [
    {
     "name": "stdout",
     "output_type": "stream",
     "text": [
      "Requirement already satisfied: pytesseract in c:\\users\\vel\\anaconda3\\lib\\site-packages (0.3.6)\n",
      "Requirement already satisfied: Pillow in c:\\users\\vel\\anaconda3\\lib\\site-packages (from pytesseract) (8.0.1)\n"
     ]
    }
   ],
   "source": [
    "!pip install pytesseract"
   ]
  },
  {
   "cell_type": "code",
   "execution_count": 1,
   "metadata": {},
   "outputs": [],
   "source": [
    "import sys\n",
    "from matplotlib import pyplot as plt\n",
    "import os\n",
    "import pytesseract \n",
    "import re\n",
    "import numpy as np\n",
    "import cv2\n",
    "pytesseract.pytesseract.tesseract_cmd = r'C:\\Program Files\\Tesseract-OCR\\tesseract.exe'"
   ]
  },
  {
   "cell_type": "code",
   "execution_count": 2,
   "metadata": {},
   "outputs": [],
   "source": [
    "def show(img):\n",
    "    cv2.imshow('image', img) \n",
    "    cv2.waitKey(0)  \n",
    "    cv2.destroyAllWindows()  "
   ]
  },
  {
   "cell_type": "code",
   "execution_count": 3,
   "metadata": {},
   "outputs": [],
   "source": [
    "IMG_PATH = 'images/'\n",
    "FIG_PATH = 'figures/'"
   ]
  },
  {
   "cell_type": "code",
   "execution_count": 4,
   "metadata": {},
   "outputs": [],
   "source": [
    "def get_bounding_rectangles(IMG_PATH): \n",
    "    # SRC: https://stackoverflow.com/questions/10262600/how-to-detect-region-of-large-of-white-pixels-using-opencv\n",
    "    img = img=cv2.imread(IMG_PATH)\n",
    "    gray = cv2.cvtColor(img,cv2.COLOR_BGR2GRAY)\n",
    "    gray2 = gray.copy()\n",
    "    ret, thresh = cv2.threshold(gray,127,255,cv2.THRESH_BINARY_INV+cv2.THRESH_OTSU)\n",
    "    contours, hier = cv2.findContours(thresh,cv2.RETR_LIST,cv2.CHAIN_APPROX_SIMPLE)\n",
    "    \n",
    "    secs = []\n",
    "    for cnt in contours:\n",
    "        if 25000<cv2.contourArea(cnt):#<300000:\n",
    "            (x,y,w,h) = cv2.boundingRect(cnt)\n",
    "            secs.append(gray2[y:y+h, x:x+w])            \n",
    "    return secs\n",
    "\n"
   ]
  },
  {
   "cell_type": "code",
   "execution_count": 5,
   "metadata": {},
   "outputs": [],
   "source": [
    "files = os.listdir(IMG_PATH)\n",
    "\n",
    "j = 0\n",
    "for i in range(10,len(files)):\n",
    "    for img in get_bounding_rectangles(IMG_PATH + files[i]):\n",
    "        \n",
    "        cv2.imshow('IMG',img)\n",
    "        if cv2.waitKey(0) == ord('1'):\n",
    "            cv2.destroyAllWindows()\n",
    "            cv2.imwrite(FIG_PATH + f'fig_{j}_page_{i}.png', img) \n",
    "            j = j + 1\n",
    "        if cv2.waitKey(0) == ord('2'):\n",
    "            cv2.destroyAllWindows()\n",
    "    \n",
    "        \n",
    "    "
   ]
  },
  {
   "cell_type": "markdown",
   "metadata": {},
   "source": [
    "## import pandas as pd"
   ]
  },
  {
   "cell_type": "code",
   "execution_count": 17,
   "metadata": {},
   "outputs": [],
   "source": [
    "df = pd.DataFrame(rows)"
   ]
  },
  {
   "cell_type": "code",
   "execution_count": 23,
   "metadata": {},
   "outputs": [],
   "source": [
    "df.to_csv(FIG_PATH + 'catalogue.csv')"
   ]
  },
  {
   "cell_type": "code",
   "execution_count": null,
   "metadata": {},
   "outputs": [],
   "source": []
  }
 ],
 "metadata": {
  "kernelspec": {
   "display_name": "Python 3",
   "language": "python",
   "name": "python3"
  },
  "language_info": {
   "codemirror_mode": {
    "name": "ipython",
    "version": 3
   },
   "file_extension": ".py",
   "mimetype": "text/x-python",
   "name": "python",
   "nbconvert_exporter": "python",
   "pygments_lexer": "ipython3",
   "version": "3.7.4"
  }
 },
 "nbformat": 4,
 "nbformat_minor": 2
}
